{
 "cells": [
  {
   "cell_type": "code",
   "execution_count": 1,
   "id": "0b29f234",
   "metadata": {},
   "outputs": [],
   "source": [
    "%load_ext autoreload\n",
    "%autoreload 2\n",
    "\n",
    "import json"
   ]
  },
  {
   "cell_type": "code",
   "execution_count": 4,
   "id": "4c53f651",
   "metadata": {},
   "outputs": [],
   "source": [
    "with open('destinations.txt', 'r') as data_file:\n",
    "    json_data = json.load(data_file)"
   ]
  },
  {
   "cell_type": "code",
   "execution_count": 26,
   "id": "edc0e2df",
   "metadata": {},
   "outputs": [
    {
     "name": "stdout",
     "output_type": "stream",
     "text": [
      "At mallorca there are the following hotels rated at:\n",
      "Hotel: Hotel Playa, Stars: 3\n",
      "Hotel: Hotel Playa Deluxe, Stars: 5\n",
      "At tyrol there are the following hotels rated at:\n",
      "Hotel: Hotel Mountain Budget, Stars: 2\n",
      "Hotel: Hotel Mountain, Stars: 3\n",
      "Hotel: Hotel Tyrol Deluxe, Stars: 5\n"
     ]
    }
   ],
   "source": [
    "for destinations in json_data:\n",
    "    for dest, v in destinations.items():\n",
    "        print(f\"At {dest} there are the following hotels rated at:\")\n",
    "        for hotel in v:\n",
    "            print(f\"Hotel: {hotel['name']}, Stars: {hotel['stars']}\")\n",
    "#         print(f\"In Mallorca, there are hotels: {hotels['name']}, with stars{hotels['stars']}\")"
   ]
  },
  {
   "cell_type": "code",
   "execution_count": 5,
   "id": "597ed6e9",
   "metadata": {},
   "outputs": [
    {
     "data": {
      "text/plain": [
       "[{'mallorca': [{'name': 'Hotel Playa', 'stars': 3},\n",
       "   {'name': 'Hotel Playa Deluxe', 'stars': 5}],\n",
       "  'tyrol': [{'name': 'Hotel Mountain Budget', 'stars': 2},\n",
       "   {'name': 'Hotel Mountain', 'stars': 3},\n",
       "   {'name': 'Hotel Tyrol Deluxe', 'stars': 5}]}]"
      ]
     },
     "execution_count": 5,
     "metadata": {},
     "output_type": "execute_result"
    }
   ],
   "source": [
    "json_data"
   ]
  },
  {
   "cell_type": "code",
   "execution_count": null,
   "id": "2c4d6f90",
   "metadata": {},
   "outputs": [],
   "source": []
  }
 ],
 "metadata": {
  "kernelspec": {
   "display_name": "Python 3 (ipykernel)",
   "language": "python",
   "name": "python3"
  },
  "language_info": {
   "codemirror_mode": {
    "name": "ipython",
    "version": 3
   },
   "file_extension": ".py",
   "mimetype": "text/x-python",
   "name": "python",
   "nbconvert_exporter": "python",
   "pygments_lexer": "ipython3",
   "version": "3.8.13"
  }
 },
 "nbformat": 4,
 "nbformat_minor": 5
}
