{
 "cells": [
  {
   "cell_type": "code",
   "execution_count": 1,
   "id": "5a102208",
   "metadata": {},
   "outputs": [],
   "source": [
    "%load_ext autoreload\n",
    "%autoreload 2\n",
    "\n",
    "import json"
   ]
  },
  {
   "cell_type": "code",
   "execution_count": 4,
   "id": "a74816b1",
   "metadata": {},
   "outputs": [],
   "source": [
    "with open('destinations.txt', 'r') as data_file:\n",
    "    json_data = json.load(data_file)"
   ]
  },
  {
   "cell_type": "code",
   "execution_count": 29,
   "id": "25161735",
   "metadata": {},
   "outputs": [
    {
     "name": "stdout",
     "output_type": "stream",
     "text": [
      "At mallorca there are the following hotels rated at:\n",
      "Hotel: Hotel Playa, Stars: 3\n",
      "Hotel: Hotel Playa Deluxe, Stars: 5\n",
      "------------\n",
      "At tyrol there are the following hotels rated at:\n",
      "Hotel: Hotel Mountain Budget, Stars: 2\n",
      "Hotel: Hotel Mountain, Stars: 3\n",
      "Hotel: Hotel Tyrol Deluxe, Stars: 5\n",
      "------------\n"
     ]
    }
   ],
   "source": [
    "for destinations in json_data:\n",
    "    for dest, hotels in destinations.items():\n",
    "        print(f\"At {dest} there are the following hotels rated at:\")\n",
    "        for hotel in hotels:\n",
    "            print(f\"Hotel: {hotel['name']}, Stars: {hotel['stars']}\")\n",
    "        print(\"------------\")"
   ]
  },
  {
   "cell_type": "code",
   "execution_count": 36,
   "id": "4f02e4ec",
   "metadata": {},
   "outputs": [],
   "source": [
    "def convert_to_list(json_data):\n",
    "    json_list = []\n",
    "    for destinations in json_data:\n",
    "        for dest, hotels in destinations.items():\n",
    "            for hotel in hotels:\n",
    "                temp = {}\n",
    "                temp[\"destination\"] = dest\n",
    "                temp[\"name\"] = hotel['name']\n",
    "                temp[\"stars\"] = hotel['stars']\n",
    "                json_list.append(temp)\n",
    "    return json_list           "
   ]
  },
  {
   "cell_type": "code",
   "execution_count": 37,
   "id": "dbc928f5",
   "metadata": {},
   "outputs": [],
   "source": [
    "hotel_list = convert_to_list(json_data)"
   ]
  },
  {
   "cell_type": "code",
   "execution_count": 54,
   "id": "8f981ef9",
   "metadata": {},
   "outputs": [],
   "source": [
    "def filter_hotels_by_stars(hotel_list, star):\n",
    "    filtered = []\n",
    "    for hotel in hotel_list:\n",
    "        if hotel[\"stars\"] == star:\n",
    "            filtered.append(hotel)\n",
    "    return filtered"
   ]
  },
  {
   "cell_type": "code",
   "execution_count": 55,
   "id": "a1147a5b",
   "metadata": {},
   "outputs": [],
   "source": [
    "filtered = filter_hotels_by_stars(hotel_list, star=3)"
   ]
  },
  {
   "cell_type": "code",
   "execution_count": 56,
   "id": "0de0445a",
   "metadata": {},
   "outputs": [
    {
     "data": {
      "text/plain": [
       "[{'destination': 'mallorca', 'name': 'Hotel Playa', 'stars': 3},\n",
       " {'destination': 'tyrol', 'name': 'Hotel Mountain', 'stars': 3}]"
      ]
     },
     "execution_count": 56,
     "metadata": {},
     "output_type": "execute_result"
    }
   ],
   "source": [
    "filtered"
   ]
  },
  {
   "cell_type": "code",
   "execution_count": 57,
   "id": "ba8f2228",
   "metadata": {},
   "outputs": [],
   "source": [
    "filtered = filter_hotels_by_stars(hotel_list, star=5)"
   ]
  },
  {
   "cell_type": "code",
   "execution_count": null,
   "id": "06e9f9cf",
   "metadata": {},
   "outputs": [
    {
     "data": {
      "text/plain": [
       "[{'destination': 'mallorca', 'name': 'Hotel Playa Deluxe', 'stars': 5},\n",
       " {'destination': 'tyrol', 'name': 'Hotel Tyrol Deluxe', 'stars': 5}]"
      ]
     },
     "execution_count": 58,
     "metadata": {},
     "output_type": "execute_result"
    }
   ],
   "source": [
    "filtered"
   ]
  },
  {
   "cell_type": "code",
   "execution_count": null,
   "id": "917611da",
   "metadata": {},
   "outputs": [],
   "source": []
  }
 ],
 "metadata": {
  "kernelspec": {
   "display_name": "Python 3 (ipykernel)",
   "language": "python",
   "name": "python3"
  },
  "language_info": {
   "codemirror_mode": {
    "name": "ipython",
    "version": 3
   },
   "file_extension": ".py",
   "mimetype": "text/x-python",
   "name": "python",
   "nbconvert_exporter": "python",
   "pygments_lexer": "ipython3",
   "version": "3.8.13"
  }
 },
 "nbformat": 4,
 "nbformat_minor": 5
}
