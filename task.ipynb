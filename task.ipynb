{
 "cells": [
  {
   "cell_type": "code",
   "execution_count": 1,
   "id": "05517834",
   "metadata": {},
   "outputs": [],
   "source": [
    "%load_ext autoreload\n",
    "%autoreload 2\n",
    "\n",
    "import json"
   ]
  },
  {
   "cell_type": "code",
   "execution_count": 4,
   "id": "fb5867ec",
   "metadata": {},
   "outputs": [],
   "source": [
    "with open('destinations.txt', 'r') as data_file:\n",
    "    json_data = json.load(data_file)"
   ]
  },
  {
   "cell_type": "code",
   "execution_count": 29,
   "id": "b4a122a0",
   "metadata": {},
   "outputs": [
    {
     "name": "stdout",
     "output_type": "stream",
     "text": [
      "At mallorca there are the following hotels rated at:\n",
      "Hotel: Hotel Playa, Stars: 3\n",
      "Hotel: Hotel Playa Deluxe, Stars: 5\n",
      "------------\n",
      "At tyrol there are the following hotels rated at:\n",
      "Hotel: Hotel Mountain Budget, Stars: 2\n",
      "Hotel: Hotel Mountain, Stars: 3\n",
      "Hotel: Hotel Tyrol Deluxe, Stars: 5\n",
      "------------\n"
     ]
    }
   ],
   "source": [
    "for destinations in json_data:\n",
    "    for dest, hotels in destinations.items():\n",
    "        print(f\"At {dest} there are the following hotels rated at:\")\n",
    "        for hotel in hotels:\n",
    "            print(f\"Hotel: {hotel['name']}, Stars: {hotel['stars']}\")\n",
    "        print(\"------------\")"
   ]
  },
  {
   "cell_type": "code",
   "execution_count": null,
   "id": "7a2b0ec9",
   "metadata": {},
   "outputs": [],
   "source": []
  }
 ],
 "metadata": {
  "kernelspec": {
   "display_name": "Python 3 (ipykernel)",
   "language": "python",
   "name": "python3"
  },
  "language_info": {
   "codemirror_mode": {
    "name": "ipython",
    "version": 3
   },
   "file_extension": ".py",
   "mimetype": "text/x-python",
   "name": "python",
   "nbconvert_exporter": "python",
   "pygments_lexer": "ipython3",
   "version": "3.8.13"
  }
 },
 "nbformat": 4,
 "nbformat_minor": 5
}
